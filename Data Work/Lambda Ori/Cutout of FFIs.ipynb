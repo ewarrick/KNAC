{
 "cells": [
  {
   "cell_type": "code",
   "execution_count": 92,
   "metadata": {},
   "outputs": [],
   "source": [
    "import numpy as np\n",
    "from astroquery.mast import Catalogs\n",
    "from astroquery.mast import Tesscut\n",
    "from astropy.coordinates import SkyCoord\n",
    "from astropy.wcs import WCS\n",
    "from astropy.io import fits\n",
    "import matplotlib.pyplot as plt\n",
    "import lightkurve\n",
    "import astropy.io\n",
    "\n",
    "%matplotlib inline"
   ]
  },
  {
   "cell_type": "code",
   "execution_count": 96,
   "metadata": {},
   "outputs": [
    {
     "name": "stdout",
     "output_type": "stream",
     "text": [
      "    ID      Tmag   Jmag         ra              dec        objType\n",
      "--------- ------- ------ ---------------- ---------------- -------\n",
      "200639711  8.6949  7.681  85.892303438527  9.2881403333591    STAR\n",
      "715849206 17.3219     -- 85.8929592648752 9.28968879993028    STAR\n",
      "715849212 17.3329     -- 85.8927020516251 9.29066119712603    STAR\n",
      "715849214 18.5311     --  85.885943922065 9.28729091617046    STAR\n",
      "200639700 13.0849 11.378 85.8896633425524 9.28223406991644    STAR\n"
     ]
    }
   ],
   "source": [
    "ticid = 200639711\n",
    "\n",
    "starName = \"TIC \" + str(ticid)\n",
    "radSearch = 4/60 #radius in degrees\n",
    "\n",
    "catalogData = Catalogs.query_object(starName, radius = radSearch, catalog = \"TIC\")\n",
    "ra = catalogData[0]['ra']\n",
    "dec = catalogData[0]['dec']\n",
    "print( catalogData[:5]['ID', 'Tmag', 'Jmag', 'ra', 'dec', 'objType'] )"
   ]
  },
  {
   "cell_type": "code",
   "execution_count": 97,
   "metadata": {},
   "outputs": [
    {
     "data": {
      "text/plain": [
       "37"
      ]
     },
     "execution_count": 97,
     "metadata": {},
     "output_type": "execute_result"
    }
   ],
   "source": [
    "\n",
    "# Create a list of nearby bright stars (tess magnitude less than 14) from the rest of the data for later.\n",
    "bright = catalogData['Tmag'] < 15\n",
    "\n",
    "# Make it a list of Ra, Dec pairs of the bright ones. This is now a list of nearby bright stars.\n",
    "nearbyStars = list( map( lambda x,y:[x,y], catalogData[bright]['ra'], catalogData[bright]['dec'] ) )\n",
    "len(nearbyStars)"
   ]
  },
  {
   "cell_type": "code",
   "execution_count": 98,
   "metadata": {},
   "outputs": [
    {
     "name": "stdout",
     "output_type": "stream",
     "text": [
      "  sectorName   sector camera ccd\n",
      "-------------- ------ ------ ---\n",
      "tess-s0006-1-4      6      1   4\n"
     ]
    }
   ],
   "source": [
    "coord = SkyCoord(ra, dec, unit = \"deg\")\n",
    "\n",
    "sectorTable = Tesscut.get_sectors(coord)\n",
    "print(sectorTable)"
   ]
  },
  {
   "cell_type": "code",
   "execution_count": 99,
   "metadata": {},
   "outputs": [],
   "source": [
    "hdulist = Tesscut.get_cutouts(coord, 20)"
   ]
  },
  {
   "cell_type": "code",
   "execution_count": 102,
   "metadata": {},
   "outputs": [
    {
     "name": "stdout",
     "output_type": "stream",
     "text": [
      "Filename: <class '_io.BytesIO'>\n",
      "No.    Name      Ver    Type      Cards   Dimensions   Format\n",
      "  0  PRIMARY       1 PrimaryHDU      56   ()      \n",
      "  1  PIXELS        1 BinTableHDU    279   993R x 12C   [D, E, J, 400J, 400E, 400E, 400E, 400E, J, E, E, 38A]   \n",
      "  2  APERTURE      1 ImageHDU       147   (20, 20)   int32   \n"
     ]
    },
    {
     "data": {
      "text/plain": [
       "6"
      ]
     },
     "execution_count": 102,
     "metadata": {},
     "output_type": "execute_result"
    }
   ],
   "source": [
    "hdulist[0].info()\n",
    "hdulist[0][0].header['SECTOR']"
   ]
  },
  {
   "cell_type": "code",
   "execution_count": 104,
   "metadata": {},
   "outputs": [],
   "source": [
    "def plot_cutout(image):\n",
    "    \"\"\"\n",
    "    Plot image and add grid lines.\n",
    "    \"\"\"\n",
    "    plt.imshow(image, origin = 'lower', cmap = plt.cm.YlGnBu_r, \n",
    "           vmax = np.percentile(image, 92),\n",
    "           vmin = np.percentile(image, 5))\n",
    "\n",
    "    plt.grid(axis = 'both',color = 'white', ls = 'solid')"
   ]
  },
  {
   "cell_type": "code",
   "execution_count": 105,
   "metadata": {},
   "outputs": [
    {
     "data": {
      "text/plain": [
       "Text(0, 0.5, 'Image Row')"
      ]
     },
     "execution_count": 105,
     "metadata": {},
     "output_type": "execute_result"
    },
    {
     "data": {
      "image/png": "[encoded data removed]",
      "text/plain": [
       "<Figure size 504x504 with 1 Axes>"
      ]
     },
     "metadata": {
      "needs_background": "light"
     },
     "output_type": "display_data"
    }
   ],
   "source": [
    "hdu1 = hdulist[0]\n",
    "firstImage = hdu1[1].data['FLUX'][0]\n",
    "fig = plt.figure(figsize=(7, 7))\n",
    "plot_cutout(firstImage)\n",
    "plt.xlabel('Image Column',fontsize = 14)\n",
    "plt.ylabel('Image Row',fontsize = 14)"
   ]
  },
  {
   "cell_type": "code",
   "execution_count": 114,
   "metadata": {},
   "outputs": [],
   "source": [
    "def aperture_phot(image, aperture):\n",
    "    \"\"\"\n",
    "    Sum-up the pixels that are in the aperture for one image.\n",
    "    image and aperture are 2D arrays that need to be the same size.\n",
    "    \n",
    "    aperture is a boolean array where True means to include the light of those pixels.\n",
    "    \"\"\"\n",
    "    flux = np.sum(image[aperture])\n",
    "\n",
    "    return flux\n",
    "\n",
    "def make_lc(flux_data, aperture):\n",
    "    \"\"\"\n",
    "    Apply the 2d aperture array to the and time series of 2D images. \n",
    "    Return the photometric series by summing over the pixels that are in the aperture.\n",
    "    \n",
    "    Aperture is a boolean array where True means it is in the desired aperture.\n",
    "    \"\"\"\n",
    "    \n",
    "    flux = np.array(list (map (lambda x: aperture_phot(x, aperture), flux_data) ) )\n",
    "\n",
    "    return flux"
   ]
  },
  {
   "cell_type": "code",
   "execution_count": 116,
   "metadata": {},
   "outputs": [
    {
     "data": {
      "text/plain": [
       "Text(0.5, 1.0, 'Flux in Photometric Aperture')"
      ]
     },
     "execution_count": 116,
     "metadata": {},
     "output_type": "execute_result"
    },
    {
     "data": {
      "image/png": "[encoded data removed]",
      "text/plain": [
       "<Figure size 792x360 with 1 Axes>"
      ]
     },
     "metadata": {
      "needs_background": "light"
     },
     "output_type": "display_data"
    }
   ],
   "source": [
    "# Use all pixels in our aperture.\n",
    "aperture = hdu1[2].data == 1\n",
    "\n",
    "flux1 = make_lc(hdu1[1].data['FLUX'], aperture)\n",
    "time1 = hdu1[1].data['TIME']\n",
    "\n",
    "plt.figure(figsize = (11,5))\n",
    "plt.plot(time1, flux1, 'k.-', lw = .5)\n",
    "#plt.xlim(1325,1342)\n",
    "plt.xlabel('TIME (BTJD)')\n",
    "plt.ylabel('Flux (e-/s)')\n",
    "plt.title('Flux in Photometric Aperture')"
   ]
  },
  {
   "cell_type": "code",
   "execution_count": 109,
   "metadata": {},
   "outputs": [
    {
     "data": {
      "text/plain": [
       "Text(0.5, 1.0, 'Background Flux')"
      ]
     },
     "execution_count": 109,
     "metadata": {},
     "output_type": "execute_result"
    },
    {
     "data": {
      "image/png": "[encoded data removed]",
      "text/plain": [
       "<Figure size 792x360 with 1 Axes>"
      ]
     },
     "metadata": {
      "needs_background": "light"
     },
     "output_type": "display_data"
    }
   ],
   "source": [
    "bkgAperture = hdu1[1].data['FLUX'][0] < np.percentile(hdu1[1].data['FLUX'][0], 5)\n",
    "\n",
    "bkgFlux1 = make_lc(hdu1[1].data['FLUX'], bkgAperture)\n",
    "time1 = hdu1[1].data['TIME']\n",
    "\n",
    "plt.figure(figsize = (11, 5))\n",
    "plt.plot(time1, bkgFlux1, 'r.-', lw = .5)\n",
    "\n",
    "plt.xlim(1325, 1342)\n",
    "plt.xlabel('TIME (BTJD)')\n",
    "plt.ylabel('Estimate of Background')\n",
    "plt.title('Background Flux')"
   ]
  },
  {
   "cell_type": "code",
   "execution_count": 110,
   "metadata": {},
   "outputs": [
    {
     "data": {
      "text/plain": [
       "Text(0.5, 1.0, 'Background Subtracted Flux')"
      ]
     },
     "execution_count": 110,
     "metadata": {},
     "output_type": "execute_result"
    },
    {
     "data": {
      "image/png": "[encoded data removed]",
      "text/plain": [
       "<Figure size 792x360 with 1 Axes>"
      ]
     },
     "metadata": {
      "needs_background": "light"
     },
     "output_type": "display_data"
    }
   ],
   "source": [
    "bkgSubFlux = flux1 - (bkgFlux1 * np.sum(aperture) / np.sum(bkgAperture) )\n",
    "\n",
    "plt.figure(figsize = (11,5))\n",
    "plt.plot(time1, bkgSubFlux,'.-k', lw = 0.5)\n",
    "\n",
    "plt.xlim(1325, 1336)\n",
    "plt.xlabel('TIME (BTJD)')\n",
    "plt.ylabel('Flux (e-/s)')\n",
    "plt.title('Background Subtracted Flux')"
   ]
  },
  {
   "cell_type": "code",
   "execution_count": null,
   "metadata": {},
   "outputs": [],
   "source": []
  }
 ],
 "metadata": {
  "kernelspec": {
   "display_name": "Python 3",
   "language": "python",
   "name": "python3"
  },
  "language_info": {
   "codemirror_mode": {
    "name": "ipython",
    "version": 3
   },
   "file_extension": ".py",
   "mimetype": "text/x-python",
   "name": "python",
   "nbconvert_exporter": "python",
   "pygments_lexer": "ipython3",
   "version": "3.7.3"
  }
 },
 "nbformat": 4,
 "nbformat_minor": 2
}
