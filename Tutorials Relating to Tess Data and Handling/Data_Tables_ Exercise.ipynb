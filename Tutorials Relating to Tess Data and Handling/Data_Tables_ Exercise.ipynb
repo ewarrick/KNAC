{
 "cells": [
  {
   "cell_type": "markdown",
   "metadata": {},
   "source": [
    "# Filtering Data From Kounkel Paper"
   ]
  },
  {
   "cell_type": "markdown",
   "metadata": {},
   "source": [
    "This short notebook goes through downloading Table 1 from the paper titled \"Close Companions around Young Stars\" in order to filter through data to get desired targets. "
   ]
  },
  {
   "cell_type": "markdown",
   "metadata": {},
   "source": [
    "First, start by importing all necessary packages. "
   ]
  },
  {
   "cell_type": "code",
   "execution_count": 1,
   "metadata": {},
   "outputs": [],
   "source": [
    "# Import some packages we will want and do basic setup:\n",
    "import numpy as np\n",
    "import astropy.table\n",
    "from astropy.table import Table, Column\n",
    "\n",
    "import astropy.units as u\n",
    "from astropy.coordinates import SkyCoord, Angle\n",
    "\n",
    "from astroquery.irsa import Irsa\n",
    "\n",
    "import re\n",
    "from itertools import zip_longest as zip\n",
    "import matplotlib\n",
    "from matplotlib.ticker import ScalarFormatter\n",
    "import matplotlib.pyplot as plt \n",
    "%matplotlib inline"
   ]
  },
  {
   "cell_type": "markdown",
   "metadata": {},
   "source": [
    "From there, make sure the table data is saved as a `.txt` file. Then upload it to the notebook as seen below.\n",
    "Then, use `Astropy` to read the table contents. "
   ]
  },
  {
   "cell_type": "code",
   "execution_count": 2,
   "metadata": {},
   "outputs": [
    {
     "name": "stderr",
     "output_type": "stream",
     "text": [
      "WARNING: UnitsWarning: '[cm/s2]' did not parse as cds unit: Invalid character at col 0 [astropy.units.core]\n"
     ]
    }
   ],
   "source": [
    "datafile = 'kounkelTable1.txt'\n",
    "t = astropy.table.Table.read(datafile, format='ascii.cds')"
   ]
  },
  {
   "cell_type": "markdown",
   "metadata": {},
   "source": [
    "Print the table."
   ]
  },
  {
   "cell_type": "code",
   "execution_count": 3,
   "metadata": {},
   "outputs": [
    {
     "data": {
      "text/html": [
       "<i>Table masked=True length=12832</i>\n",
       "<table id=\"table4888730984\" class=\"table-striped table-bordered table-condensed\">\n",
       "<thead><tr><th>2MASS</th><th>RAdeg</th><th>DEdeg</th><th>Region</th><th>YSO</th><th>Num</th><th>RVel</th><th>e_RVel</th><th>Vrot</th><th>e_Vrot</th><th>Teff</th><th>e_Teff</th><th>log(g)</th><th>e_log(g)</th><th>Veil</th><th>e_Veil</th><th>SB2?</th><th>chi2</th><th>Slope</th><th>Lchi2</th><th>LSlope</th><th>q</th><th>e_q</th></tr></thead>\n",
       "<thead><tr><th></th><th>deg</th><th>deg</th><th></th><th></th><th></th><th>km / s</th><th>km / s</th><th>km / s</th><th>km / s</th><th>K</th><th>K</th><th>[cm/s2]</th><th>[cm/s2]</th><th></th><th></th><th></th><th></th><th></th><th></th><th></th><th></th><th></th></tr></thead>\n",
       "<thead><tr><th>str18</th><th>float64</th><th>float64</th><th>str8</th><th>int64</th><th>int64</th><th>float64</th><th>float64</th><th>float64</th><th>float64</th><th>float64</th><th>float64</th><th>float64</th><th>float64</th><th>float64</th><th>float64</th><th>int64</th><th>float64</th><th>float64</th><th>float64</th><th>float64</th><th>float64</th><th>float64</th></tr></thead>\n",
       "<tr><td>2M03173879+4850489</td><td>49.4116478</td><td>48.84693146</td><td>alphaper</td><td>3</td><td>4</td><td>-0.7175</td><td>0.2055</td><td>0.07831</td><td>0.4807</td><td>3507.0</td><td>31.5</td><td>5.012</td><td>0.07859</td><td>0.4733</td><td>0.03553</td><td>1</td><td>1.808</td><td>0.03791</td><td>1.808</td><td>0.03791</td><td>--</td><td>--</td></tr>\n",
       "<tr><td>2M03174209+4901465</td><td>49.42537689</td><td>49.02960968</td><td>alphaper</td><td>3</td><td>4</td><td>-1.146</td><td>0.1462</td><td>11.3</td><td>0.4101</td><td>5508.0</td><td>22.82</td><td>5.136</td><td>0.04334</td><td>0.0001542</td><td>0.00174</td><td>1</td><td>0.2759</td><td>0.8973</td><td>0.2759</td><td>0.8973</td><td>--</td><td>--</td></tr>\n",
       "<tr><td>2M03175213+4833134</td><td>49.46725082</td><td>48.55373764</td><td>--</td><td>0</td><td>4</td><td>-46.77</td><td>0.1111</td><td>5.029</td><td>0.5983</td><td>4111.0</td><td>9.521</td><td>2.397</td><td>0.03911</td><td>0.03372</td><td>0.01543</td><td>1</td><td>0.9755</td><td>1.711</td><td>--</td><td>--</td><td>--</td><td>--</td></tr>\n",
       "<tr><td>2M03180855+4918551</td><td>49.53566742</td><td>49.31531143</td><td>--</td><td>0</td><td>4</td><td>6.889</td><td>1.561</td><td>168.3</td><td>2.299</td><td>4202.0</td><td>17.02</td><td>4.536</td><td>0.05534</td><td>0.0841</td><td>0.01644</td><td>0</td><td>0.2343</td><td>0.8066</td><td>--</td><td>--</td><td>--</td><td>--</td></tr>\n",
       "<tr><td>2M03181332+4856396</td><td>49.55551147</td><td>48.94435883</td><td>--</td><td>0</td><td>4</td><td>0.09992</td><td>5.32</td><td>19.25</td><td>8.668</td><td>3220.0</td><td>196.1</td><td>3.75</td><td>1.298</td><td>0.9765</td><td>0.6884</td><td>0</td><td>--</td><td>--</td><td>--</td><td>--</td><td>--</td><td>--</td></tr>\n",
       "<tr><td>2M03182309+4928026</td><td>49.59623718</td><td>49.46741486</td><td>alphaper</td><td>3</td><td>3</td><td>-0.5667</td><td>0.6882</td><td>25.6</td><td>1.172</td><td>3883.0</td><td>26.4</td><td>5.157</td><td>0.1057</td><td>0.343</td><td>0.03872</td><td>1</td><td>--</td><td>--</td><td>--</td><td>--</td><td>--</td><td>--</td></tr>\n",
       "<tr><td>2M03182562+4822557</td><td>49.60676575</td><td>48.38215637</td><td>--</td><td>0</td><td>4</td><td>-65.55</td><td>0.1271</td><td>0.02815</td><td>0.1931</td><td>5125.0</td><td>17.57</td><td>3.866</td><td>0.05051</td><td>8.577e-05</td><td>0.001358</td><td>1</td><td>3.971</td><td>2.388</td><td>--</td><td>--</td><td>--</td><td>--</td></tr>\n",
       "<tr><td>2M03183137+4928568</td><td>49.6307106</td><td>49.48245621</td><td>--</td><td>0</td><td>4</td><td>-26.67</td><td>0.08917</td><td>0.2855</td><td>1.091</td><td>5808.0</td><td>19.27</td><td>4.328</td><td>0.03546</td><td>0.06977</td><td>0.01252</td><td>1</td><td>3.623</td><td>0.05863</td><td>--</td><td>--</td><td>--</td><td>--</td></tr>\n",
       "<tr><td>2M03184477+4946119</td><td>49.68658066</td><td>49.7699852</td><td>--</td><td>0</td><td>4</td><td>-1.061</td><td>4.161</td><td>185.9</td><td>18.19</td><td>11780.0</td><td>301.0</td><td>4.498</td><td>0.03178</td><td>0.0008426</td><td>0.002687</td><td>0</td><td>0.8163</td><td>0.921</td><td>--</td><td>--</td><td>--</td><td>--</td></tr>\n",
       "<tr><td>...</td><td>...</td><td>...</td><td>...</td><td>...</td><td>...</td><td>...</td><td>...</td><td>...</td><td>...</td><td>...</td><td>...</td><td>...</td><td>...</td><td>...</td><td>...</td><td>...</td><td>...</td><td>...</td><td>...</td><td>...</td><td>...</td><td>...</td></tr>\n",
       "<tr><td>2M06490376+0953246</td><td>102.2656937</td><td>9.89017105</td><td>--</td><td>0</td><td>3</td><td>8.711</td><td>0.1485</td><td>5.677</td><td>0.7296</td><td>4325.0</td><td>13.92</td><td>2.905</td><td>0.05697</td><td>0.0002434</td><td>0.005741</td><td>1</td><td>1.673</td><td>1.821</td><td>--</td><td>--</td><td>--</td><td>--</td></tr>\n",
       "<tr><td>2M06490492+1021074</td><td>102.2705154</td><td>10.35207081</td><td>--</td><td>0</td><td>3</td><td>0.2794</td><td>0.1204</td><td>3.676</td><td>0.8501</td><td>5176.0</td><td>29.8</td><td>4.569</td><td>0.05207</td><td>5.416e-05</td><td>0.001164</td><td>1</td><td>350.9</td><td>3.123</td><td>--</td><td>--</td><td>--</td><td>--</td></tr>\n",
       "<tr><td>2M06490645+0957576</td><td>102.2769089</td><td>9.96601486</td><td>--</td><td>0</td><td>3</td><td>11.04</td><td>0.1305</td><td>0.9385</td><td>3.131</td><td>5273.0</td><td>26.34</td><td>3.704</td><td>0.07389</td><td>0.04111</td><td>0.01849</td><td>1</td><td>0.1178</td><td>0.3605</td><td>--</td><td>--</td><td>--</td><td>--</td></tr>\n",
       "<tr><td>2M06491116+1028492</td><td>102.2965164</td><td>10.48035145</td><td>--</td><td>0</td><td>3</td><td>23.59</td><td>0.1272</td><td>4.602</td><td>0.658</td><td>5308.0</td><td>25.37</td><td>3.934</td><td>0.06358</td><td>0.0003325</td><td>0.002745</td><td>1</td><td>1.112</td><td>1.479</td><td>--</td><td>--</td><td>--</td><td>--</td></tr>\n",
       "<tr><td>2M06491888+1029434</td><td>102.3286667</td><td>10.49540043</td><td>--</td><td>0</td><td>3</td><td>80.09</td><td>0.1361</td><td>4.388</td><td>0.9181</td><td>5554.0</td><td>49.74</td><td>4.028</td><td>0.08033</td><td>0.05741</td><td>0.02153</td><td>1</td><td>0.04451</td><td>0.1473</td><td>--</td><td>--</td><td>--</td><td>--</td></tr>\n",
       "<tr><td>2M06492021+1033044</td><td>102.3342209</td><td>10.55124855</td><td>--</td><td>0</td><td>6</td><td>14.77</td><td>7.623</td><td>273.7</td><td>44.04</td><td>9439.0</td><td>704.1</td><td>4.472</td><td>0.06018</td><td>0.08726</td><td>0.02832</td><td>0</td><td>0.2084</td><td>0.05887</td><td>--</td><td>--</td><td>--</td><td>--</td></tr>\n",
       "<tr><td>2M06492494+1032091</td><td>102.3539429</td><td>10.53586388</td><td>--</td><td>0</td><td>3</td><td>75.3</td><td>0.145</td><td>7.467</td><td>0.5693</td><td>4276.0</td><td>12.29</td><td>2.866</td><td>0.05033</td><td>0.02105</td><td>0.0174</td><td>1</td><td>0.7776</td><td>1.245</td><td>--</td><td>--</td><td>--</td><td>--</td></tr>\n",
       "<tr><td>AP05375173-0209548</td><td>84.46554565</td><td>-2.16522288</td><td>--</td><td>0</td><td>3</td><td>53.15</td><td>0.1496</td><td>5.001</td><td>0.9113</td><td>5020.0</td><td>26.96</td><td>3.845</td><td>0.06399</td><td>0.0001369</td><td>0.001916</td><td>1</td><td>0.1501</td><td>0.4997</td><td>--</td><td>--</td><td>--</td><td>--</td></tr>\n",
       "<tr><td>AP05392826-0120372</td><td>84.86776733</td><td>-1.34366143</td><td>orid</td><td>3</td><td>4</td><td>24.14</td><td>0.538</td><td>53.13</td><td>0.867</td><td>3959.0</td><td>9.78</td><td>4.522</td><td>0.05243</td><td>0.2592</td><td>0.01835</td><td>1</td><td>2.294</td><td>2.605</td><td>2.294</td><td>2.605</td><td>--</td><td>--</td></tr>\n",
       "<tr><td>AP05411300-0205553</td><td>85.3041687</td><td>-2.09870601</td><td>--</td><td>0</td><td>3</td><td>24.8</td><td>10.21</td><td>75.29</td><td>37.4</td><td>8393.0</td><td>1444.0</td><td>4.439</td><td>0.09693</td><td>0.1008</td><td>0.09048</td><td>0</td><td>0.04227</td><td>0.03123</td><td>--</td><td>--</td><td>--</td><td>--</td></tr>\n",
       "</table>"
      ],
      "text/plain": [
       "<Table masked=True length=12832>\n",
       "      2MASS           RAdeg       DEdeg     Region  ...  LSlope    q      e_q  \n",
       "                       deg         deg              ...                        \n",
       "      str18          float64     float64     str8   ... float64 float64 float64\n",
       "------------------ ----------- ----------- -------- ... ------- ------- -------\n",
       "2M03173879+4850489  49.4116478 48.84693146 alphaper ... 0.03791      --      --\n",
       "2M03174209+4901465 49.42537689 49.02960968 alphaper ...  0.8973      --      --\n",
       "2M03175213+4833134 49.46725082 48.55373764       -- ...      --      --      --\n",
       "2M03180855+4918551 49.53566742 49.31531143       -- ...      --      --      --\n",
       "2M03181332+4856396 49.55551147 48.94435883       -- ...      --      --      --\n",
       "2M03182309+4928026 49.59623718 49.46741486 alphaper ...      --      --      --\n",
       "2M03182562+4822557 49.60676575 48.38215637       -- ...      --      --      --\n",
       "2M03183137+4928568  49.6307106 49.48245621       -- ...      --      --      --\n",
       "2M03184477+4946119 49.68658066  49.7699852       -- ...      --      --      --\n",
       "               ...         ...         ...      ... ...     ...     ...     ...\n",
       "2M06490376+0953246 102.2656937  9.89017105       -- ...      --      --      --\n",
       "2M06490492+1021074 102.2705154 10.35207081       -- ...      --      --      --\n",
       "2M06490645+0957576 102.2769089  9.96601486       -- ...      --      --      --\n",
       "2M06491116+1028492 102.2965164 10.48035145       -- ...      --      --      --\n",
       "2M06491888+1029434 102.3286667 10.49540043       -- ...      --      --      --\n",
       "2M06492021+1033044 102.3342209 10.55124855       -- ...      --      --      --\n",
       "2M06492494+1032091 102.3539429 10.53586388       -- ...      --      --      --\n",
       "AP05375173-0209548 84.46554565 -2.16522288       -- ...      --      --      --\n",
       "AP05392826-0120372 84.86776733 -1.34366143     orid ...   2.605      --      --\n",
       "AP05411300-0205553  85.3041687 -2.09870601       -- ...      --      --      --"
      ]
     },
     "execution_count": 3,
     "metadata": {},
     "output_type": "execute_result"
    }
   ],
   "source": [
    "t"
   ]
  },
  {
   "cell_type": "markdown",
   "metadata": {},
   "source": [
    "Make a specific filter collecting just SB2s of value greater than 1.\n",
    "To make a quick table filtering outthe targets we don't need, use this line of code to get you spectroscopic binaries located in Lambda Ori."
   ]
  },
  {
   "cell_type": "code",
   "execution_count": 4,
   "metadata": {},
   "outputs": [],
   "source": [
    "SB2=t['SB2?']"
   ]
  },
  {
   "cell_type": "code",
   "execution_count": 5,
   "metadata": {},
   "outputs": [],
   "source": [
    "Filter = (t[\"YSO\"] == 2) & (t[\"Region\"] == \"laori\") & (SB2>1)"
   ]
  },
  {
   "cell_type": "code",
   "execution_count": 6,
   "metadata": {},
   "outputs": [
    {
     "data": {
      "text/plain": [
       "masked_BaseColumn(data=[False, False, --, ..., --, False, --],\n",
       "                  mask=[False, False,  True, ...,  True, False,  True],\n",
       "            fill_value=True)"
      ]
     },
     "execution_count": 6,
     "metadata": {},
     "output_type": "execute_result"
    }
   ],
   "source": [
    "Filter"
   ]
  },
  {
   "cell_type": "code",
   "execution_count": 7,
   "metadata": {},
   "outputs": [
    {
     "data": {
      "text/html": [
       "<i>Table masked=True length=4</i>\n",
       "<table id=\"table4922734688\" class=\"table-striped table-bordered table-condensed\">\n",
       "<thead><tr><th>2MASS</th><th>RAdeg</th><th>DEdeg</th><th>Region</th><th>YSO</th><th>Num</th><th>RVel</th><th>e_RVel</th><th>Vrot</th><th>e_Vrot</th><th>Teff</th><th>e_Teff</th><th>log(g)</th><th>e_log(g)</th><th>Veil</th><th>e_Veil</th><th>SB2?</th><th>chi2</th><th>Slope</th><th>Lchi2</th><th>LSlope</th><th>q</th><th>e_q</th></tr></thead>\n",
       "<thead><tr><th></th><th>deg</th><th>deg</th><th></th><th></th><th></th><th>km / s</th><th>km / s</th><th>km / s</th><th>km / s</th><th>K</th><th>K</th><th>[cm/s2]</th><th>[cm/s2]</th><th></th><th></th><th></th><th></th><th></th><th></th><th></th><th></th><th></th></tr></thead>\n",
       "<thead><tr><th>str18</th><th>float64</th><th>float64</th><th>str8</th><th>int64</th><th>int64</th><th>float64</th><th>float64</th><th>float64</th><th>float64</th><th>float64</th><th>float64</th><th>float64</th><th>float64</th><th>float64</th><th>float64</th><th>int64</th><th>float64</th><th>float64</th><th>float64</th><th>float64</th><th>float64</th><th>float64</th></tr></thead>\n",
       "<tr><td>2M05310780+1125262</td><td>82.78252411</td><td>11.42396927</td><td>laori</td><td>2</td><td>4</td><td>27.72</td><td>0.3025</td><td>19.74</td><td>0.6716</td><td>3835.0</td><td>15.62</td><td>4.478</td><td>0.06042</td><td>0.2181</td><td>0.02293</td><td>2</td><td>0.3559</td><td>0.01521</td><td>0.3559</td><td>0.01521</td><td>0.973</td><td>0.017</td></tr>\n",
       "<tr><td>2M05330672+1146458</td><td>83.2780304</td><td>11.77941513</td><td>laori</td><td>2</td><td>4</td><td>42.14</td><td>0.3263</td><td>8.422</td><td>1.395</td><td>5617.0</td><td>93.52</td><td>5.285</td><td>0.1241</td><td>0.108</td><td>0.04831</td><td>2</td><td>--</td><td>--</td><td>--</td><td>--</td><td>0.4899</td><td>0.07192</td></tr>\n",
       "<tr><td>2M05435700+0916240</td><td>85.98751068</td><td>9.27333736</td><td>laori</td><td>2</td><td>4</td><td>28.4</td><td>0.7096</td><td>38.91</td><td>0.9948</td><td>3067.0</td><td>18.22</td><td>4.676</td><td>0.07323</td><td>0.3592</td><td>0.03572</td><td>3</td><td>1.901</td><td>1.293</td><td>1.901</td><td>1.293</td><td>--</td><td>--</td></tr>\n",
       "<tr><td>2M05473614+0916575</td><td>86.90058899</td><td>9.28265381</td><td>laori</td><td>2</td><td>4</td><td>28.99</td><td>0.4801</td><td>28.89</td><td>0.811</td><td>2682.0</td><td>13.62</td><td>4.249</td><td>0.06411</td><td>0.0735</td><td>0.02497</td><td>2</td><td>1.018</td><td>0.5463</td><td>1.018</td><td>0.5463</td><td>--</td><td>--</td></tr>\n",
       "</table>"
      ],
      "text/plain": [
       "<Table masked=True length=4>\n",
       "      2MASS           RAdeg       DEdeg    Region ...  LSlope    q      e_q  \n",
       "                       deg         deg            ...                        \n",
       "      str18          float64     float64    str8  ... float64 float64 float64\n",
       "------------------ ----------- ----------- ------ ... ------- ------- -------\n",
       "2M05310780+1125262 82.78252411 11.42396927  laori ... 0.01521   0.973   0.017\n",
       "2M05330672+1146458  83.2780304 11.77941513  laori ...      --  0.4899 0.07192\n",
       "2M05435700+0916240 85.98751068  9.27333736  laori ...   1.293      --      --\n",
       "2M05473614+0916575 86.90058899  9.28265381  laori ...  0.5463      --      --"
      ]
     },
     "execution_count": 7,
     "metadata": {},
     "output_type": "execute_result"
    }
   ],
   "source": [
    "t[Filter]"
   ]
  },
  {
   "cell_type": "code",
   "execution_count": 8,
   "metadata": {},
   "outputs": [],
   "source": [
    "RaFilter1 = (t[\"YSO\"] == 2) & (t[\"Region\"] == \"n2264\") & (SB2>1)"
   ]
  },
  {
   "cell_type": "code",
   "execution_count": 9,
   "metadata": {},
   "outputs": [
    {
     "data": {
      "text/html": [
       "<i>Table masked=True length=2</i>\n",
       "<table id=\"table4913895352\" class=\"table-striped table-bordered table-condensed\">\n",
       "<thead><tr><th>2MASS</th><th>RAdeg</th><th>DEdeg</th><th>Region</th><th>YSO</th><th>Num</th><th>RVel</th><th>e_RVel</th><th>Vrot</th><th>e_Vrot</th><th>Teff</th><th>e_Teff</th><th>log(g)</th><th>e_log(g)</th><th>Veil</th><th>e_Veil</th><th>SB2?</th><th>chi2</th><th>Slope</th><th>Lchi2</th><th>LSlope</th><th>q</th><th>e_q</th></tr></thead>\n",
       "<thead><tr><th></th><th>deg</th><th>deg</th><th></th><th></th><th></th><th>km / s</th><th>km / s</th><th>km / s</th><th>km / s</th><th>K</th><th>K</th><th>[cm/s2]</th><th>[cm/s2]</th><th></th><th></th><th></th><th></th><th></th><th></th><th></th><th></th><th></th></tr></thead>\n",
       "<thead><tr><th>str18</th><th>float64</th><th>float64</th><th>str8</th><th>int64</th><th>int64</th><th>float64</th><th>float64</th><th>float64</th><th>float64</th><th>float64</th><th>float64</th><th>float64</th><th>float64</th><th>float64</th><th>float64</th><th>int64</th><th>float64</th><th>float64</th><th>float64</th><th>float64</th><th>float64</th><th>float64</th></tr></thead>\n",
       "<tr><td>2M06410360+0930290</td><td>100.2650299</td><td>9.50805759</td><td>n2264</td><td>2</td><td>6</td><td>24.32</td><td>0.2244</td><td>18.63</td><td>0.5053</td><td>3242.0</td><td>12.76</td><td>3.182</td><td>0.0365</td><td>0.6914</td><td>0.03162</td><td>2</td><td>368.8</td><td>18.24</td><td>181.2</td><td>4.664</td><td>0.8383</td><td>0.03706</td></tr>\n",
       "<tr><td>2M06410597+0939142</td><td>100.2748795</td><td>9.65394592</td><td>n2264</td><td>2</td><td>6</td><td>13.82</td><td>0.4673</td><td>3.563</td><td>0.8987</td><td>3013.0</td><td>33.01</td><td>3.948</td><td>0.1688</td><td>0.09662</td><td>0.04971</td><td>2</td><td>2.75</td><td>2.75</td><td>11.49</td><td>7.07</td><td>0.699</td><td>0.1364</td></tr>\n",
       "</table>"
      ],
      "text/plain": [
       "<Table masked=True length=2>\n",
       "      2MASS           RAdeg      DEdeg    Region ...  LSlope    q      e_q  \n",
       "                       deg        deg            ...                        \n",
       "      str18          float64    float64    str8  ... float64 float64 float64\n",
       "------------------ ----------- ---------- ------ ... ------- ------- -------\n",
       "2M06410360+0930290 100.2650299 9.50805759  n2264 ...   4.664  0.8383 0.03706\n",
       "2M06410597+0939142 100.2748795 9.65394592  n2264 ...    7.07   0.699  0.1364"
      ]
     },
     "execution_count": 9,
     "metadata": {},
     "output_type": "execute_result"
    }
   ],
   "source": [
    "t[RaFilter1]"
   ]
  },
  {
   "cell_type": "code",
   "execution_count": 10,
   "metadata": {},
   "outputs": [],
   "source": [
    "AllSB2 = (SB2>1)"
   ]
  },
  {
   "cell_type": "code",
   "execution_count": 11,
   "metadata": {},
   "outputs": [
    {
     "data": {
      "text/html": [
       "<i>Table masked=True length=220</i>\n",
       "<table id=\"table4924207512\" class=\"table-striped table-bordered table-condensed\">\n",
       "<thead><tr><th>2MASS</th><th>RAdeg</th><th>DEdeg</th><th>Region</th><th>YSO</th><th>Num</th><th>RVel</th><th>e_RVel</th><th>Vrot</th><th>e_Vrot</th><th>Teff</th><th>e_Teff</th><th>log(g)</th><th>e_log(g)</th><th>Veil</th><th>e_Veil</th><th>SB2?</th><th>chi2</th><th>Slope</th><th>Lchi2</th><th>LSlope</th><th>q</th><th>e_q</th></tr></thead>\n",
       "<thead><tr><th></th><th>deg</th><th>deg</th><th></th><th></th><th></th><th>km / s</th><th>km / s</th><th>km / s</th><th>km / s</th><th>K</th><th>K</th><th>[cm/s2]</th><th>[cm/s2]</th><th></th><th></th><th></th><th></th><th></th><th></th><th></th><th></th><th></th></tr></thead>\n",
       "<thead><tr><th>str18</th><th>float64</th><th>float64</th><th>str8</th><th>int64</th><th>int64</th><th>float64</th><th>float64</th><th>float64</th><th>float64</th><th>float64</th><th>float64</th><th>float64</th><th>float64</th><th>float64</th><th>float64</th><th>int64</th><th>float64</th><th>float64</th><th>float64</th><th>float64</th><th>float64</th><th>float64</th></tr></thead>\n",
       "<tr><td>2M03220975+4834024</td><td>50.54065704</td><td>48.56735229</td><td>alphaper</td><td>3</td><td>4</td><td>15.33</td><td>0.214</td><td>14.82</td><td>0.4809</td><td>3874.0</td><td>15.32</td><td>5.346</td><td>0.05781</td><td>0.4038</td><td>0.02427</td><td>2</td><td>1642.0</td><td>64.6</td><td>1642.0</td><td>64.6</td><td>0.8907</td><td>0.02735</td></tr>\n",
       "<tr><td>2M03281336+4856154</td><td>52.05567551</td><td>48.93763733</td><td>alphaper</td><td>3</td><td>4</td><td>0.1128</td><td>0.397</td><td>9.173</td><td>1.288</td><td>3112.0</td><td>22.45</td><td>5.058</td><td>0.08327</td><td>0.2552</td><td>0.04302</td><td>2</td><td>2.615</td><td>2.245</td><td>2.615</td><td>2.245</td><td>0.1039</td><td>0.03213</td></tr>\n",
       "<tr><td>2M03291414+4941169</td><td>52.30895615</td><td>49.68803024</td><td>alphaper</td><td>3</td><td>4</td><td>-0.4306</td><td>0.2179</td><td>41.45</td><td>0.4074</td><td>5084.0</td><td>25.7</td><td>5.203</td><td>0.042</td><td>4.159e-05</td><td>0.001028</td><td>2</td><td>3.203</td><td>1.734</td><td>3.203</td><td>1.734</td><td>0.9311</td><td>0.04265</td></tr>\n",
       "<tr><td>2M03292204+3124153</td><td>52.34184647</td><td>31.40427017</td><td>n1333</td><td>3</td><td>1</td><td>5.814</td><td>3.061</td><td>124.9</td><td>4.25</td><td>3717.0</td><td>46.81</td><td>4.657</td><td>0.1705</td><td>0.4144</td><td>0.05153</td><td>2</td><td>--</td><td>--</td><td>--</td><td>--</td><td>--</td><td>--</td></tr>\n",
       "<tr><td>2M03292624+4812117</td><td>52.35934067</td><td>48.20325851</td><td>alphaper</td><td>3</td><td>4</td><td>0.2929</td><td>0.557</td><td>63.36</td><td>0.2625</td><td>5838.0</td><td>38.88</td><td>4.835</td><td>0.05028</td><td>0.09986</td><td>0.02019</td><td>2</td><td>0.4139</td><td>0.1832</td><td>0.4139</td><td>0.1832</td><td>0.8829</td><td>0.01294</td></tr>\n",
       "<tr><td>2M03301892+4943348</td><td>52.57886124</td><td>49.72634888</td><td>alphaper</td><td>3</td><td>4</td><td>-0.493</td><td>0.5827</td><td>13.66</td><td>1.467</td><td>2893.0</td><td>29.2</td><td>4.993</td><td>0.102</td><td>0.3487</td><td>0.05748</td><td>2</td><td>0.7691</td><td>0.5628</td><td>0.7691</td><td>0.5628</td><td>0.1135</td><td>0.0311</td></tr>\n",
       "<tr><td>2M03313314+4751447</td><td>52.88809586</td><td>47.86243057</td><td>--</td><td>0</td><td>4</td><td>35.68</td><td>17.41</td><td>843.3</td><td>46.71</td><td>14970.0</td><td>269.6</td><td>4.665</td><td>0.118</td><td>0.0008467</td><td>0.01171</td><td>2</td><td>1.261</td><td>1.937</td><td>--</td><td>--</td><td>--</td><td>--</td></tr>\n",
       "<tr><td>2M03335040+4855393</td><td>53.46000671</td><td>48.92759705</td><td>alphaper</td><td>3</td><td>4</td><td>26.29</td><td>0.2363</td><td>0.6177</td><td>1.482</td><td>4218.0</td><td>16.95</td><td>5.613</td><td>0.07018</td><td>0.3955</td><td>0.03664</td><td>2</td><td>1650.0</td><td>30.47</td><td>1650.0</td><td>30.47</td><td>0.891</td><td>0.0981</td></tr>\n",
       "<tr><td>2M03400448+3118568</td><td>55.01867676</td><td>31.31578445</td><td>--</td><td>0</td><td>16</td><td>-1.362</td><td>0.5834</td><td>30.23</td><td>1.038</td><td>6737.0</td><td>146.3</td><td>4.392</td><td>0.04436</td><td>0.2352</td><td>0.0252</td><td>2</td><td>1076.0</td><td>28.34</td><td>--</td><td>--</td><td>--</td><td>--</td></tr>\n",
       "<tr><td>...</td><td>...</td><td>...</td><td>...</td><td>...</td><td>...</td><td>...</td><td>...</td><td>...</td><td>...</td><td>...</td><td>...</td><td>...</td><td>...</td><td>...</td><td>...</td><td>...</td><td>...</td><td>...</td><td>...</td><td>...</td><td>...</td><td>...</td></tr>\n",
       "<tr><td>2M06405302+0952594</td><td>100.220932</td><td>9.88318253</td><td>n2264</td><td>3</td><td>6</td><td>24.69</td><td>2.247</td><td>90.91</td><td>3.153</td><td>4065.0</td><td>37.81</td><td>4.429</td><td>0.1296</td><td>0.3051</td><td>0.04678</td><td>2</td><td>0.1071</td><td>0.4197</td><td>--</td><td>--</td><td>--</td><td>--</td></tr>\n",
       "<tr><td>2M06405586+0951304</td><td>100.2327957</td><td>9.85846806</td><td>n2264</td><td>3</td><td>6</td><td>21.59</td><td>0.7782</td><td>34.75</td><td>1.265</td><td>4027.0</td><td>26.78</td><td>4.616</td><td>0.09958</td><td>0.2835</td><td>0.04067</td><td>2</td><td>0.1841</td><td>0.5378</td><td>0.1841</td><td>0.5378</td><td>0.8098</td><td>0.3258</td></tr>\n",
       "<tr><td>2M06410360+0930290</td><td>100.2650299</td><td>9.50805759</td><td>n2264</td><td>2</td><td>6</td><td>24.32</td><td>0.2244</td><td>18.63</td><td>0.5053</td><td>3242.0</td><td>12.76</td><td>3.182</td><td>0.0365</td><td>0.6914</td><td>0.03162</td><td>2</td><td>368.8</td><td>18.24</td><td>181.2</td><td>4.664</td><td>0.8383</td><td>0.03706</td></tr>\n",
       "<tr><td>2M06410450+0930134</td><td>100.2687683</td><td>9.50372696</td><td>n2264</td><td>3</td><td>6</td><td>19.39</td><td>3.353</td><td>62.5</td><td>4.897</td><td>3757.0</td><td>82.01</td><td>4.597</td><td>0.2991</td><td>0.3104</td><td>0.102</td><td>2</td><td>0.9628</td><td>1.385</td><td>0.9628</td><td>1.385</td><td>--</td><td>--</td></tr>\n",
       "<tr><td>2M06410457+1000426</td><td>100.2690506</td><td>10.01185513</td><td>n2264</td><td>3</td><td>6</td><td>21.03</td><td>1.479</td><td>40.1</td><td>2.203</td><td>3267.0</td><td>46.04</td><td>5.094</td><td>0.137</td><td>0.2725</td><td>0.06347</td><td>2</td><td>0.6914</td><td>0.3507</td><td>0.6914</td><td>0.3507</td><td>0.8513</td><td>0.03749</td></tr>\n",
       "<tr><td>2M06410597+0939142</td><td>100.2748795</td><td>9.65394592</td><td>n2264</td><td>2</td><td>6</td><td>13.82</td><td>0.4673</td><td>3.563</td><td>0.8987</td><td>3013.0</td><td>33.01</td><td>3.948</td><td>0.1688</td><td>0.09662</td><td>0.04971</td><td>2</td><td>2.75</td><td>2.75</td><td>11.49</td><td>7.07</td><td>0.699</td><td>0.1364</td></tr>\n",
       "<tr><td>2M06412454+0937355</td><td>100.3522644</td><td>9.62653542</td><td>n2264</td><td>3</td><td>12</td><td>21.32</td><td>1.013</td><td>73.28</td><td>1.617</td><td>3907.0</td><td>14.99</td><td>4.393</td><td>0.0618</td><td>0.1956</td><td>0.02178</td><td>2</td><td>0.3423</td><td>0.1655</td><td>1.732</td><td>2.753</td><td>--</td><td>--</td></tr>\n",
       "<tr><td>2M06413207+1001049</td><td>100.3836441</td><td>10.01803303</td><td>--</td><td>0</td><td>6</td><td>72.28</td><td>0.3243</td><td>59.65</td><td>0.6385</td><td>4707.0</td><td>17.62</td><td>4.65</td><td>0.03633</td><td>0.00428</td><td>0.003428</td><td>2</td><td>819.2</td><td>41.2</td><td>--</td><td>--</td><td>--</td><td>--</td></tr>\n",
       "<tr><td>2M06413433+0925533</td><td>100.3930817</td><td>9.43149567</td><td>n2264</td><td>3</td><td>12</td><td>17.56</td><td>0.4962</td><td>37.26</td><td>0.8939</td><td>3917.0</td><td>15.46</td><td>4.52</td><td>0.06014</td><td>0.311</td><td>0.02321</td><td>2</td><td>0.9427</td><td>1.079</td><td>2.575</td><td>1.572</td><td>--</td><td>--</td></tr>\n",
       "<tr><td>2M06414575+0926428</td><td>100.4406662</td><td>9.44523239</td><td>n2264</td><td>3</td><td>6</td><td>15.55</td><td>0.4492</td><td>7.077</td><td>1.737</td><td>3115.0</td><td>31.59</td><td>3.945</td><td>0.1666</td><td>0.2197</td><td>0.07089</td><td>2</td><td>1.139</td><td>0.07392</td><td>3.18</td><td>4.814</td><td>--</td><td>--</td></tr>\n",
       "</table>"
      ],
      "text/plain": [
       "<Table masked=True length=220>\n",
       "      2MASS           RAdeg       DEdeg     Region  ...  LSlope    q      e_q  \n",
       "                       deg         deg              ...                        \n",
       "      str18          float64     float64     str8   ... float64 float64 float64\n",
       "------------------ ----------- ----------- -------- ... ------- ------- -------\n",
       "2M03220975+4834024 50.54065704 48.56735229 alphaper ...    64.6  0.8907 0.02735\n",
       "2M03281336+4856154 52.05567551 48.93763733 alphaper ...   2.245  0.1039 0.03213\n",
       "2M03291414+4941169 52.30895615 49.68803024 alphaper ...   1.734  0.9311 0.04265\n",
       "2M03292204+3124153 52.34184647 31.40427017    n1333 ...      --      --      --\n",
       "2M03292624+4812117 52.35934067 48.20325851 alphaper ...  0.1832  0.8829 0.01294\n",
       "2M03301892+4943348 52.57886124 49.72634888 alphaper ...  0.5628  0.1135  0.0311\n",
       "2M03313314+4751447 52.88809586 47.86243057       -- ...      --      --      --\n",
       "2M03335040+4855393 53.46000671 48.92759705 alphaper ...   30.47   0.891  0.0981\n",
       "2M03400448+3118568 55.01867676 31.31578445       -- ...      --      --      --\n",
       "               ...         ...         ...      ... ...     ...     ...     ...\n",
       "2M06405302+0952594  100.220932  9.88318253    n2264 ...      --      --      --\n",
       "2M06405586+0951304 100.2327957  9.85846806    n2264 ...  0.5378  0.8098  0.3258\n",
       "2M06410360+0930290 100.2650299  9.50805759    n2264 ...   4.664  0.8383 0.03706\n",
       "2M06410450+0930134 100.2687683  9.50372696    n2264 ...   1.385      --      --\n",
       "2M06410457+1000426 100.2690506 10.01185513    n2264 ...  0.3507  0.8513 0.03749\n",
       "2M06410597+0939142 100.2748795  9.65394592    n2264 ...    7.07   0.699  0.1364\n",
       "2M06412454+0937355 100.3522644  9.62653542    n2264 ...   2.753      --      --\n",
       "2M06413207+1001049 100.3836441 10.01803303       -- ...      --      --      --\n",
       "2M06413433+0925533 100.3930817  9.43149567    n2264 ...   1.572      --      --\n",
       "2M06414575+0926428 100.4406662  9.44523239    n2264 ...   4.814      --      --"
      ]
     },
     "execution_count": 11,
     "metadata": {},
     "output_type": "execute_result"
    }
   ],
   "source": [
    "t[AllSB2]"
   ]
  },
  {
   "cell_type": "code",
   "execution_count": 12,
   "metadata": {},
   "outputs": [
    {
     "name": "stdout",
     "output_type": "stream",
     "text": [
      "      2MASS           RAdeg       DEdeg     Region  ... LSlope   q      e_q   \n",
      "                       deg         deg              ...                       \n",
      "------------------ ----------- ----------- -------- ... ------ ------ --------\n",
      "2M03220975+4834024 50.54065704 48.56735229 alphaper ...   64.6 0.8907  0.02735\n",
      "2M03281336+4856154 52.05567551 48.93763733 alphaper ...  2.245 0.1039  0.03213\n",
      "2M03291414+4941169 52.30895615 49.68803024 alphaper ...  1.734 0.9311  0.04265\n",
      "2M03292204+3124153 52.34184647 31.40427017    n1333 ...     --     --       --\n",
      "2M03292624+4812117 52.35934067 48.20325851 alphaper ... 0.1832 0.8829  0.01294\n",
      "2M03301892+4943348 52.57886124 49.72634888 alphaper ... 0.5628 0.1135   0.0311\n",
      "2M03313314+4751447 52.88809586 47.86243057       -- ...     --     --       --\n",
      "2M03335040+4855393 53.46000671 48.92759705 alphaper ...  30.47  0.891   0.0981\n",
      "2M03400448+3118568 55.01867676 31.31578445       -- ...     --     --       --\n",
      "2M03405779+3118059 55.24082184 31.30164528    ic348 ... 0.1664 0.9542 0.008973\n",
      "               ...         ...         ...      ... ...    ...    ...      ...\n",
      "2M06405302+0952594  100.220932  9.88318253    n2264 ...     --     --       --\n",
      "2M06405586+0951304 100.2327957  9.85846806    n2264 ... 0.5378 0.8098   0.3258\n",
      "2M06410360+0930290 100.2650299  9.50805759    n2264 ...  4.664 0.8383  0.03706\n",
      "2M06410450+0930134 100.2687683  9.50372696    n2264 ...  1.385     --       --\n",
      "2M06410457+1000426 100.2690506 10.01185513    n2264 ... 0.3507 0.8513  0.03749\n",
      "2M06410597+0939142 100.2748795  9.65394592    n2264 ...   7.07  0.699   0.1364\n",
      "2M06412454+0937355 100.3522644  9.62653542    n2264 ...  2.753     --       --\n",
      "2M06413207+1001049 100.3836441 10.01803303       -- ...     --     --       --\n",
      "2M06413433+0925533 100.3930817  9.43149567    n2264 ...  1.572     --       --\n",
      "2M06414575+0926428 100.4406662  9.44523239    n2264 ...  4.814     --       --\n",
      "Length = 220 rows\n"
     ]
    }
   ],
   "source": [
    "t[AllSB2].pprint()"
   ]
  },
  {
   "cell_type": "code",
   "execution_count": 13,
   "metadata": {},
   "outputs": [],
   "source": [
    "t[AllSB2].show_in_browser(jsviewer=True)  "
   ]
  },
  {
   "cell_type": "code",
   "execution_count": null,
   "metadata": {},
   "outputs": [],
   "source": []
  }
 ],
 "metadata": {
  "kernelspec": {
   "display_name": "Python 3",
   "language": "python",
   "name": "python3"
  },
  "language_info": {
   "codemirror_mode": {
    "name": "ipython",
    "version": 3
   },
   "file_extension": ".py",
   "mimetype": "text/x-python",
   "name": "python",
   "nbconvert_exporter": "python",
   "pygments_lexer": "ipython3",
   "version": "3.7.3"
  }
 },
 "nbformat": 4,
 "nbformat_minor": 2
}
